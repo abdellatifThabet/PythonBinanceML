{
 "cells": [
  {
   "cell_type": "code",
   "execution_count": 19,
   "id": "da88706d-0187-431c-a97c-643e946783d1",
   "metadata": {},
   "outputs": [],
   "source": [
    "instance = 1"
   ]
  },
  {
   "cell_type": "code",
   "execution_count": 20,
   "id": "3a9c3fbe-d3d1-4ef7-8178-d0d456328e7d",
   "metadata": {},
   "outputs": [
    {
     "ename": "NameError",
     "evalue": "name 'LinearRegression' is not defined",
     "output_type": "error",
     "traceback": [
      "\u001b[0;31m---------------------------------------------------------------------------\u001b[0m",
      "\u001b[0;31mNameError\u001b[0m                                 Traceback (most recent call last)",
      "\u001b[0;32m<ipython-input-20-e25cebf58e72>\u001b[0m in \u001b[0;36m<module>\u001b[0;34m\u001b[0m\n\u001b[0;32m----> 1\u001b[0;31m \u001b[0mprint\u001b[0m\u001b[0;34m(\u001b[0m\u001b[0mexec\u001b[0m \u001b[0;34m(\u001b[0m\u001b[0;34m\"lr_\"\u001b[0m \u001b[0;34m+\u001b[0m \u001b[0mstr\u001b[0m\u001b[0;34m(\u001b[0m\u001b[0minstance\u001b[0m\u001b[0;34m)\u001b[0m \u001b[0;34m+\u001b[0m \u001b[0;34m\" = \"\u001b[0m \u001b[0;34m+\u001b[0m \u001b[0mstr\u001b[0m\u001b[0;34m(\u001b[0m\u001b[0mLinearRegression\u001b[0m\u001b[0;34m(\u001b[0m\u001b[0;34m)\u001b[0m\u001b[0;34m)\u001b[0m\u001b[0;34m)\u001b[0m\u001b[0;34m)\u001b[0m\u001b[0;34m\u001b[0m\u001b[0;34m\u001b[0m\u001b[0m\n\u001b[0m",
      "\u001b[0;31mNameError\u001b[0m: name 'LinearRegression' is not defined"
     ]
    }
   ],
   "source": [
    "print(exec (\"lr_\" + \"instance\" + \" = \" + str(LinearRegression())))"
   ]
  },
  {
   "cell_type": "code",
   "execution_count": null,
   "id": "79231adb-b115-49df-bd58-951698626214",
   "metadata": {},
   "outputs": [],
   "source": []
  },
  {
   "cell_type": "code",
   "execution_count": 41,
   "id": "6ed1ef50-3956-4572-ba15-29cebc727f15",
   "metadata": {},
   "outputs": [
    {
     "ename": "NameError",
     "evalue": "name 'LinearRegression' is not defined",
     "output_type": "error",
     "traceback": [
      "\u001b[0;31m---------------------------------------------------------------------------\u001b[0m",
      "\u001b[0;31mNameError\u001b[0m                                 Traceback (most recent call last)",
      "\u001b[0;32m<ipython-input-41-17d2a1ec153d>\u001b[0m in \u001b[0;36m<module>\u001b[0;34m\u001b[0m\n\u001b[0;32m----> 1\u001b[0;31m \u001b[0mexec\u001b[0m\u001b[0;34m(\u001b[0m\u001b[0;34m\"group\"\u001b[0m \u001b[0;34m+\u001b[0m \u001b[0;34m\"= LinearRegression()\"\u001b[0m\u001b[0;34m)\u001b[0m\u001b[0;34m\u001b[0m\u001b[0;34m\u001b[0m\u001b[0m\n\u001b[0m",
      "\u001b[0;32m<string>\u001b[0m in \u001b[0;36m<module>\u001b[0;34m\u001b[0m\n",
      "\u001b[0;31mNameError\u001b[0m: name 'LinearRegression' is not defined"
     ]
    }
   ],
   "source": [
    "exec(\"group\" + \"= LinearRegression()\")"
   ]
  },
  {
   "cell_type": "code",
   "execution_count": null,
   "id": "9b4d0117-ca9c-46ae-824b-c2f4afc5b9d0",
   "metadata": {},
   "outputs": [],
   "source": []
  },
  {
   "cell_type": "code",
   "execution_count": 39,
   "id": "bfae6694-2498-4ce7-ad18-6078c6baf79e",
   "metadata": {},
   "outputs": [
    {
     "name": "stdout",
     "output_type": "stream",
     "text": [
      "LinearRegression()\n"
     ]
    }
   ],
   "source": [
    "print(Elon)"
   ]
  },
  {
   "cell_type": "code",
   "execution_count": 53,
   "id": "37cdeeeb-61bf-4072-bfeb-b8f8ceecc864",
   "metadata": {},
   "outputs": [],
   "source": [
    "from multiprocessing import Process"
   ]
  },
  {
   "cell_type": "code",
   "execution_count": 54,
   "id": "f2b8c400-8d56-4221-9dbf-1ef784013d15",
   "metadata": {},
   "outputs": [],
   "source": [
    "def f1(j):\n",
    "    aa = 'ok'+str(j)\n",
    "    print(aa)\n",
    "    return\n",
    "\n",
    "def f2(j):\n",
    "    aa = 'oka'+str(j)\n",
    "    print(aa)\n",
    "    return"
   ]
  },
  {
   "cell_type": "code",
   "execution_count": 55,
   "id": "50867168-16ae-4ad2-a5db-771f7788f0b8",
   "metadata": {},
   "outputs": [
    {
     "name": "stdout",
     "output_type": "stream",
     "text": [
      "ok0\n",
      "oka0\n",
      "ok1\n",
      "oka1\n",
      "ok2\n",
      "oka2\n"
     ]
    }
   ],
   "source": [
    "i = 0\n",
    "while i<3 :\n",
    "    p1 = Process(target = f1(i))\n",
    "    p1.start()\n",
    "    p2 = Process(target = f2(i))\n",
    "    p2.start()\n",
    "    i = i+1"
   ]
  },
  {
   "cell_type": "code",
   "execution_count": 60,
   "id": "02441255-c1a1-48a6-822c-65ecc0d160d5",
   "metadata": {},
   "outputs": [
    {
     "ename": "NameError",
     "evalue": "name 'l' is not defined",
     "output_type": "error",
     "traceback": [
      "\u001b[0;31m---------------------------------------------------------------------------\u001b[0m",
      "\u001b[0;31mNameError\u001b[0m                                 Traceback (most recent call last)",
      "\u001b[0;32m<ipython-input-60-277780d2145d>\u001b[0m in \u001b[0;36m<module>\u001b[0;34m\u001b[0m\n\u001b[1;32m      1\u001b[0m \u001b[0mi\u001b[0m \u001b[0;34m=\u001b[0m \u001b[0;36m1\u001b[0m\u001b[0;34m\u001b[0m\u001b[0;34m\u001b[0m\u001b[0m\n\u001b[0;32m----> 2\u001b[0;31m \u001b[0mexec\u001b[0m\u001b[0;34m(\u001b[0m\u001b[0;34m'p'\u001b[0m\u001b[0;34m+\u001b[0m\u001b[0mstr\u001b[0m\u001b[0;34m(\u001b[0m\u001b[0mi\u001b[0m\u001b[0;34m)\u001b[0m \u001b[0;34m+\u001b[0m\u001b[0;34m'= l.get()'\u001b[0m\u001b[0;34m)\u001b[0m\u001b[0;34m\u001b[0m\u001b[0;34m\u001b[0m\u001b[0m\n\u001b[0m",
      "\u001b[0;32m<string>\u001b[0m in \u001b[0;36m<module>\u001b[0;34m\u001b[0m\n",
      "\u001b[0;31mNameError\u001b[0m: name 'l' is not defined"
     ]
    }
   ],
   "source": [
    "i = 1\n",
    "exec('p'+str(i) +'= l.get()')"
   ]
  },
  {
   "cell_type": "code",
   "execution_count": 63,
   "id": "5be93949-384a-4f4a-9e67-6700c3605761",
   "metadata": {},
   "outputs": [],
   "source": [
    "lst = [10,10,10]"
   ]
  },
  {
   "cell_type": "code",
   "execution_count": 65,
   "id": "8f4c8616-13cc-4364-a2c0-093add15b56d",
   "metadata": {},
   "outputs": [
    {
     "name": "stdout",
     "output_type": "stream",
     "text": [
      "0\n",
      "1\n",
      "2\n"
     ]
    }
   ],
   "source": [
    "for i in range(len(lst)):\n",
    "    print(i)"
   ]
  },
  {
   "cell_type": "code",
   "execution_count": null,
   "id": "4d8454c3-b8ef-43a4-a97d-ae306ab44c0e",
   "metadata": {},
   "outputs": [],
   "source": []
  }
 ],
 "metadata": {
  "kernelspec": {
   "display_name": "Python 3",
   "language": "python",
   "name": "python3"
  },
  "language_info": {
   "codemirror_mode": {
    "name": "ipython",
    "version": 3
   },
   "file_extension": ".py",
   "mimetype": "text/x-python",
   "name": "python",
   "nbconvert_exporter": "python",
   "pygments_lexer": "ipython3",
   "version": "3.7.9"
  }
 },
 "nbformat": 4,
 "nbformat_minor": 5
}
