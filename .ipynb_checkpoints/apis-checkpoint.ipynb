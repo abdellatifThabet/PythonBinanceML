{
 "cells": [
  {
   "cell_type": "markdown",
   "id": "84579d24-0c8e-4ab3-a2b1-6f77d99a63f4",
   "metadata": {},
   "source": [
    "## Get current price from binance"
   ]
  },
  {
   "cell_type": "code",
   "execution_count": 2,
   "id": "4059f0d2-c1c6-4fd4-aad5-248e7127c142",
   "metadata": {},
   "outputs": [],
   "source": [
    "import requests\n",
    "import json"
   ]
  },
  {
   "cell_type": "code",
   "execution_count": 3,
   "id": "7f37d2bb-4ea8-41d8-831e-fa5cff47c169",
   "metadata": {},
   "outputs": [
    {
     "data": {
      "text/plain": [
       "1.0921"
      ]
     },
     "execution_count": 3,
     "metadata": {},
     "output_type": "execute_result"
    }
   ],
   "source": [
    "def from_binance(symbol):\n",
    "    url_binance = \"https://api.binance.com/api/v3/ticker/price?symbol=\"\n",
    "    xrp_response = requests.request('GET', url_binance + symbol +\"USDT\")\n",
    "    return float(json.loads(xrp_response.text)['price'])\n",
    "from_binance(\"XRP\")\n",
    "#from_binance(\"LTCUSDT\")\n",
    "#from_binance(\"XLMUSDT\")\n",
    "#from_binance(\"DOGEUSDT\")"
   ]
  },
  {
   "cell_type": "code",
   "execution_count": null,
   "id": "1590b37d-f2d7-4207-b29c-6256e2aa1bf3",
   "metadata": {},
   "outputs": [],
   "source": []
  },
  {
   "cell_type": "code",
   "execution_count": null,
   "id": "51eee489-4f93-4a8e-acda-3499f5c631ea",
   "metadata": {},
   "outputs": [],
   "source": []
  },
  {
   "cell_type": "code",
   "execution_count": null,
   "id": "df938f3f-5164-47ab-ac1d-66d61fc8acc3",
   "metadata": {},
   "outputs": [],
   "source": []
  },
  {
   "cell_type": "markdown",
   "id": "5f114e4e-3068-443c-b801-4a94ff554206",
   "metadata": {},
   "source": [
    "## Get current price from upbit"
   ]
  },
  {
   "cell_type": "code",
   "execution_count": 52,
   "id": "952a5aea-9158-4475-87ff-4c6af37e07c6",
   "metadata": {},
   "outputs": [],
   "source": [
    "import requests\n",
    "import json\n",
    "url_upbit = \"https://crix-api.upbit.com/v1/crix/trades/ticks\"\n",
    "##### XRP/USD:\n",
    "xrp_response = requests.request('GET', url_upbit + \"?code=CRIX.UPBIT.USDT-XRP\")\n",
    "xrp = json.loads(xrp_response.text)\n",
    "##### LTC/USD:\n",
    "ltc_response = requests.request('GET', url_upbit + \"?code=CRIX.UPBIT.USDT-LTC\")\n",
    "ltc = json.loads(ltc_response.text)\n",
    "##### XLM/USD:\n",
    "#xlm_response = requests.request('GET', url_upbit + \"?code=CRIX.UPBIT.USDT-XLM\")\n",
    "#xlm = json.loads(xlm_response.text)\n",
    "##### DOGE/USD:\n",
    "doge_response = requests.request('GET', url_upbit + \"?code=CRIX.UPBIT.USDT-DOGE\")\n",
    "doge = json.loads(doge_response.text)\n"
   ]
  },
  {
   "cell_type": "code",
   "execution_count": 54,
   "id": "67b9d221-987c-404e-835e-51b02092927a",
   "metadata": {},
   "outputs": [
    {
     "name": "stdout",
     "output_type": "stream",
     "text": [
      "XRP/USD:  1.166\n",
      "ltc/USD:  181.52903452\n",
      "doge/USD:  0.28343722\n"
     ]
    }
   ],
   "source": [
    "print(\"XRP/USD: \", xrp[0]['tradePrice'])\n",
    "print(\"ltc/USD: \", ltc[0]['tradePrice'])\n",
    "#print(\"xlm/USD: \", xlm[0]['tradePrice'])\n",
    "print(\"doge/USD: \", doge[0]['tradePrice'])"
   ]
  },
  {
   "cell_type": "code",
   "execution_count": null,
   "id": "8df1fca2-af0a-4fd1-be34-9d5bd5d63911",
   "metadata": {},
   "outputs": [],
   "source": [
    "\n",
    "\n",
    "\n"
   ]
  },
  {
   "cell_type": "code",
   "execution_count": 20,
   "id": "f6cffa90-9deb-4b06-89ed-903bf4fd5cd4",
   "metadata": {},
   "outputs": [],
   "source": [
    "#print(pyupbit.get_tickers())\n",
    "import pyupbit"
   ]
  },
  {
   "cell_type": "code",
   "execution_count": 25,
   "id": "ca70bc3f-d891-415d-9f8a-825bc69c4682",
   "metadata": {},
   "outputs": [
    {
     "name": "stdout",
     "output_type": "stream",
     "text": [
      "['USDT-BTC', 'USDT-ETH', 'USDT-LTC', 'USDT-XRP', 'USDT-ETC', 'USDT-OMG', 'USDT-ADA', 'USDT-TUSD', 'USDT-SC', 'USDT-TRX', 'USDT-BCH', 'USDT-DGB', 'USDT-DOGE', 'USDT-ZRX', 'USDT-RVN', 'USDT-BAT']\n"
     ]
    }
   ],
   "source": [
    "print(pyupbit.get_tickers(fiat=\"USDT\"))\n"
   ]
  },
  {
   "cell_type": "code",
   "execution_count": 23,
   "id": "44aed9c3-9224-4dc8-9655-cad81a2c3e53",
   "metadata": {},
   "outputs": [
    {
     "name": "stdout",
     "output_type": "stream",
     "text": [
      "XRP/USD 1.17\n",
      "LTC/USD 181.59175336\n",
      "KeyError\n",
      "XLM/USD None\n",
      "DOGE/USD 0.28343722\n"
     ]
    }
   ],
   "source": [
    "print(\"XRP/USD\", pyupbit.get_current_price(\"USDT-XRP\"))\n",
    "print(\"LTC/USD\", pyupbit.get_current_price(\"USDT-LTC\"))\n",
    "print(\"XLM/USD\", pyupbit.get_current_price(\"USDT-XLM\"))\n",
    "print(\"DOGE/USD\", pyupbit.get_current_price(\"USDT-DOGE\"))\n"
   ]
  },
  {
   "cell_type": "code",
   "execution_count": null,
   "id": "ea5a5f84-e085-4a7e-94f9-604a15b432c8",
   "metadata": {},
   "outputs": [],
   "source": [
    "print(pyupbit.get_current_price(\"USDT-LTC\"))"
   ]
  },
  {
   "cell_type": "code",
   "execution_count": null,
   "id": "6df0b327-6181-4c1c-8c65-8c2d891a0650",
   "metadata": {},
   "outputs": [],
   "source": [
    "######### first question: what ticker to use to get the price"
   ]
  },
  {
   "cell_type": "code",
   "execution_count": 59,
   "id": "4796cfb7-fa4f-417e-b1a8-044c6e67bd83",
   "metadata": {},
   "outputs": [],
   "source": [
    "######### second question: what is and where is the RewardsAPI"
   ]
  },
  {
   "cell_type": "code",
   "execution_count": null,
   "id": "d6ef6099-9497-4bda-82c1-347c76369a03",
   "metadata": {},
   "outputs": [],
   "source": []
  },
  {
   "cell_type": "markdown",
   "id": "18bb0dbf-6380-4e57-863a-a114093631db",
   "metadata": {},
   "source": [
    "## Get current price from BitTrue"
   ]
  },
  {
   "cell_type": "code",
   "execution_count": 9,
   "id": "8340fbac-6a13-4e16-ad04-a40b6cecf1ba",
   "metadata": {},
   "outputs": [],
   "source": [
    "def from_bitrue(symbol):\n",
    "    url_BitTrue = \"https://www.bitrue.com/api/v1/ticker/price?symbol=\"\n",
    "    xrp_response = requests.request('GET', url_BitTrue + symbol +\"USDT\")\n",
    "    return float(json.loads(xrp_response.text)['price'])"
   ]
  },
  {
   "cell_type": "code",
   "execution_count": 10,
   "id": "a6f20eb9-71c4-47a9-88c8-1e60077dd7d0",
   "metadata": {},
   "outputs": [
    {
     "data": {
      "text/plain": [
       "1.08809"
      ]
     },
     "execution_count": 10,
     "metadata": {},
     "output_type": "execute_result"
    }
   ],
   "source": [
    "from_bitrue('XRP')"
   ]
  },
  {
   "cell_type": "code",
   "execution_count": null,
   "id": "81d2baf6-ef20-41d6-abec-07283ce25e7c",
   "metadata": {},
   "outputs": [],
   "source": []
  },
  {
   "cell_type": "markdown",
   "id": "3cf87c36-5a43-435a-af0f-6c1e655c3c02",
   "metadata": {},
   "source": [
    "## Get current price from Okex"
   ]
  },
  {
   "cell_type": "code",
   "execution_count": 62,
   "id": "388d1765-ea17-45e7-afe3-fae51aebc7b4",
   "metadata": {},
   "outputs": [],
   "source": [
    "\n",
    "#response = requests.get(\"http://www.okex.com/api/v4/ticker/price?symbol=LTCBTC\")\n",
    "#LTCBTC\n",
    "\n",
    "response = requests.get(\"https://www.okex.com/api/v1/ticker.do?symbol=ltc_btc\")\n",
    "\n"
   ]
  },
  {
   "cell_type": "code",
   "execution_count": 63,
   "id": "7ce85b98-82cd-4829-8b6f-51ae0a64dac9",
   "metadata": {},
   "outputs": [
    {
     "name": "stdout",
     "output_type": "stream",
     "text": [
      "Gone\n"
     ]
    }
   ],
   "source": [
    "print(response.text)"
   ]
  },
  {
   "cell_type": "code",
   "execution_count": null,
   "id": "c756c1e2-65dd-4743-8fce-6dd9ff902f72",
   "metadata": {},
   "outputs": [],
   "source": []
  },
  {
   "cell_type": "markdown",
   "id": "0c7a39e1-a497-4697-8f3f-114ddf78f3ff",
   "metadata": {},
   "source": [
    "## Get current price from Huobi Global"
   ]
  },
  {
   "cell_type": "code",
   "execution_count": 15,
   "id": "54b2e1bf-664f-470d-8589-52eb5191d06d",
   "metadata": {},
   "outputs": [],
   "source": [
    "def from_huobi(symbol):\n",
    "    url_Huobi = \"https://api.huobi.pro/market/detail/merged?symbol=\"\n",
    "    xrp_response = requests.request('GET', url_Huobi + symbol.lower()+\"usdt\")\n",
    "    return float(json.loads(xrp_response.text)['tick']['close'])"
   ]
  },
  {
   "cell_type": "code",
   "execution_count": 17,
   "id": "71618500-d9f4-4016-a24d-9de7d25b0c4e",
   "metadata": {},
   "outputs": [
    {
     "data": {
      "text/plain": [
       "1.08181"
      ]
     },
     "execution_count": 17,
     "metadata": {},
     "output_type": "execute_result"
    }
   ],
   "source": [
    "from_huobi('XRP')"
   ]
  },
  {
   "cell_type": "code",
   "execution_count": null,
   "id": "67381154-2ac8-4c80-85aa-77ecc054fa53",
   "metadata": {},
   "outputs": [],
   "source": []
  },
  {
   "cell_type": "markdown",
   "id": "0e061068-32bb-4858-a382-c9862491ec93",
   "metadata": {},
   "source": [
    "## Get current price from Coinbase"
   ]
  },
  {
   "cell_type": "code",
   "execution_count": 123,
   "id": "fe9d7ab0-804e-41d9-88c8-10146f72d0df",
   "metadata": {},
   "outputs": [
    {
     "data": {
      "text/plain": [
       "{'data': {'base': 'BTC', 'currency': 'USD', 'amount': '48158.1'}}"
      ]
     },
     "execution_count": 123,
     "metadata": {},
     "output_type": "execute_result"
    }
   ],
   "source": [
    "url = 'https://api.coinbase.com/v2/prices/spot?currency=USD'\n",
    "response = requests.request('GET', url)\n",
    "r = json.loads(response.text)\n",
    "r\n",
    "\n"
   ]
  },
  {
   "cell_type": "code",
   "execution_count": 19,
   "id": "51b41bb1-2e10-4681-9785-156a5a639f4c",
   "metadata": {},
   "outputs": [],
   "source": [
    "import requests\n",
    "import json\n",
    "url_Coinbase = \"https://api.coinbase.com/v2/prices/\"\n",
    "##### XRP/USD:\n",
    "xrp_response = requests.request('GET', url_Coinbase + \"XRP-USD/spot\")\n",
    "xrp = json.loads(xrp_response.text)\n",
    "##### LTC/USD:\n",
    "ltc_response = requests.request('GET', url_Coinbase + \"LTC-USD/spot\")\n",
    "ltc = json.loads(ltc_response.text)\n",
    "##### XLM/USD:\n",
    "xlm_response = requests.request('GET', url_Coinbase + \"XLM-USD/spot\")\n",
    "xlm = json.loads(xlm_response.text)\n",
    "##### DOGE/USD:\n",
    "doge_response = requests.request('GET', url_Coinbase + \"DOGE-USD/spot\")\n",
    "doge = json.loads(doge_response.text)"
   ]
  },
  {
   "cell_type": "code",
   "execution_count": 20,
   "id": "bd1f4aad-fd31-4d6b-acf5-2b24101c9583",
   "metadata": {},
   "outputs": [
    {
     "name": "stdout",
     "output_type": "stream",
     "text": [
      "XRP/USD:  {'errors': [{'id': 'not_found', 'message': 'Invalid base currency'}]}\n",
      "ltc/USD:  {'data': {'base': 'LTC', 'currency': 'USD', 'amount': '171.17'}}\n",
      "xlm/USD:  {'data': {'base': 'XLM', 'currency': 'USD', 'amount': '0.341336'}}\n",
      "doge/USD:  {'data': {'base': 'DOGE', 'currency': 'USD', 'amount': '0.2748'}}\n"
     ]
    }
   ],
   "source": [
    "print(\"XRP/USD: \", xrp)\n",
    "print(\"ltc/USD: \", ltc)\n",
    "print(\"xlm/USD: \", xlm)\n",
    "print(\"doge/USD: \", doge)"
   ]
  },
  {
   "cell_type": "code",
   "execution_count": null,
   "id": "0fa8dceb-c4db-46c6-a8ee-ffe276777cb6",
   "metadata": {},
   "outputs": [],
   "source": []
  },
  {
   "cell_type": "markdown",
   "id": "76c46e80-ce46-49a6-ba4e-3a00bc518092",
   "metadata": {},
   "source": [
    "## Get current price from KuCoin"
   ]
  },
  {
   "cell_type": "code",
   "execution_count": 23,
   "id": "38cbcad3-7b2e-42dc-bfab-cc973527649d",
   "metadata": {},
   "outputs": [],
   "source": [
    "def from_huobi(symbol):\n",
    "    url_kucoin = \"https://api.kucoin.com/api/v1/prices\"\n",
    "    response = requests.request('GET', url_kucoin)\n",
    "    r = json.loads(response.text)\n",
    "    return float(r['data'][symbol.upper()])"
   ]
  },
  {
   "cell_type": "code",
   "execution_count": 24,
   "id": "4a2f22cd-bf01-43cd-8f45-ce67fab22f09",
   "metadata": {},
   "outputs": [
    {
     "data": {
      "text/plain": [
       "1.08533"
      ]
     },
     "execution_count": 24,
     "metadata": {},
     "output_type": "execute_result"
    }
   ],
   "source": [
    "from_huobi('xrp')"
   ]
  },
  {
   "cell_type": "markdown",
   "id": "23bff315-edae-4188-80e9-fe44ce3af8d0",
   "metadata": {},
   "source": [
    "## FTX"
   ]
  },
  {
   "cell_type": "code",
   "execution_count": 27,
   "id": "e2ea08c4-35c4-41e1-aec5-ac2e99567d84",
   "metadata": {},
   "outputs": [],
   "source": [
    "def from_ftx(symbol):\n",
    "    url_ftx = \"https://ftx.com/api/markets/XRP-PERP\"\n",
    "    response = requests.get('https://ftx.com/api/markets/'+ symbol.upper() + '-PERP').json()\n",
    "    return float(response['result']['ask'])"
   ]
  },
  {
   "cell_type": "code",
   "execution_count": 28,
   "id": "27304eaa-0d4a-43bc-aca1-108b070236ad",
   "metadata": {},
   "outputs": [
    {
     "data": {
      "text/plain": [
       "1.08635"
      ]
     },
     "execution_count": 28,
     "metadata": {},
     "output_type": "execute_result"
    }
   ],
   "source": [
    "from_ftx('XRP')"
   ]
  },
  {
   "cell_type": "code",
   "execution_count": 114,
   "id": "3c088b65-9916-4401-880b-716b3550a60a",
   "metadata": {},
   "outputs": [
    {
     "name": "stdout",
     "output_type": "stream",
     "text": [
      "{'success': False, 'error': 'No such market: DOGE-USDT '}\n"
     ]
    }
   ],
   "source": [
    "btc_old = requests.get('https://ftx.com/api/markets/DOGE-USDT').json()\n",
    "print(btc_old)"
   ]
  },
  {
   "cell_type": "code",
   "execution_count": 128,
   "id": "514e5bf5-3460-4e21-b801-8b8b0fa81c3d",
   "metadata": {},
   "outputs": [
    {
     "name": "stdout",
     "output_type": "stream",
     "text": [
      "1.16595\n",
      "177.53\n",
      "0.35615\n",
      "0.2929145\n"
     ]
    }
   ],
   "source": [
    "xrp = requests.get('https://ftx.com/api/markets/XRP-PERP').json()\n",
    "print(xrp['result']['ask'])\n",
    "ltc = requests.get('https://ftx.com/api/markets/LTC-PERP').json()\n",
    "print(ltc['result']['ask'])\n",
    "xlm = requests.get('https://ftx.com/api/markets/XLM-PERP').json()\n",
    "print(xlm['result']['ask'])\n",
    "doge = requests.get('https://ftx.com/api/markets/DOGE-PERP').json()\n",
    "print(doge['result']['ask'])"
   ]
  },
  {
   "cell_type": "code",
   "execution_count": null,
   "id": "13a477d2-b60f-4c4a-b7fb-f8447c35d7e0",
   "metadata": {},
   "outputs": [],
   "source": []
  }
 ],
 "metadata": {
  "kernelspec": {
   "display_name": "Python 3",
   "language": "python",
   "name": "python3"
  },
  "language_info": {
   "codemirror_mode": {
    "name": "ipython",
    "version": 3
   },
   "file_extension": ".py",
   "mimetype": "text/x-python",
   "name": "python",
   "nbconvert_exporter": "python",
   "pygments_lexer": "ipython3",
   "version": "3.7.9"
  }
 },
 "nbformat": 4,
 "nbformat_minor": 5
}
